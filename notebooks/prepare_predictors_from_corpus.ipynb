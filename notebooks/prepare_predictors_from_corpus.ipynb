{
 "cells": [
  {
   "cell_type": "markdown",
   "id": "09fa83b7",
   "metadata": {},
   "source": [
    "# Prepare Predictors from Corpus\n",
    "\n",
    "This notebook processes the large corpus text file to extract word frequencies and prepare predictor data for analysis. The output will be used by `notebook2_corpus_analysis.ipynb` to compare different frequency measures."
   ]
  },
  {
   "cell_type": "code",
   "execution_count": 1,
   "id": "cc6dc38c",
   "metadata": {},
   "outputs": [
    {
     "name": "stdout",
     "output_type": "stream",
     "text": [
      "Starting corpus processing...\n",
      "Corpus file: ../output/large_corpus.txt\n",
      "Output file: ../output/generated_corpus_with_predictors.csv\n"
     ]
    }
   ],
   "source": [
    "import pandas as pd\n",
    "import re\n",
    "from collections import Counter\n",
    "import os\n",
    "import numpy as np\n",
    "\n",
    "# File paths\n",
    "corpus_file_path = '../output/large_corpus.txt'\n",
    "output_csv_path = '../output/generated_corpus_with_predictors.csv'\n",
    "\n",
    "print(\"Starting corpus processing...\")\n",
    "print(f\"Corpus file: {corpus_file_path}\")\n",
    "print(f\"Output file: {output_csv_path}\")"
   ]
  },
  {
   "cell_type": "code",
   "execution_count": 2,
   "id": "e8796dd6",
   "metadata": {},
   "outputs": [
    {
     "name": "stdout",
     "output_type": "stream",
     "text": [
      "✓ Corpus file found\n",
      "Reading corpus...\n",
      "Corpus loaded: 32,429 characters\n",
      "First 200 characters: **How to Create a Reliable Backup System for Your Digital Life**\n",
      "\n",
      "In today’s digital world, our lives are increasingly stored on computers, smartphones, and cloud services. From family photos and impo...\n"
     ]
    }
   ],
   "source": [
    "# Check if corpus file exists\n",
    "if not os.path.exists(corpus_file_path):\n",
    "    print(f\"ERROR: Corpus file not found at {corpus_file_path}\")\n",
    "    print(\"Please ensure the large_corpus.txt file exists in the output directory.\")\n",
    "else:\n",
    "    print(\"✓ Corpus file found\")\n",
    "    \n",
    "    # Read the corpus\n",
    "    print(\"Reading corpus...\")\n",
    "    with open(corpus_file_path, 'r', encoding='utf-8') as f:\n",
    "        corpus_text = f.read()\n",
    "    \n",
    "    print(f\"Corpus loaded: {len(corpus_text):,} characters\")\n",
    "    print(f\"First 200 characters: {corpus_text[:200]}...\")"
   ]
  },
  {
   "cell_type": "code",
   "execution_count": 3,
   "id": "d6c08548",
   "metadata": {},
   "outputs": [
    {
     "name": "stdout",
     "output_type": "stream",
     "text": [
      "Tokenizing text...\n",
      "Total tokens extracted: 5,296\n",
      "Sample tokens: ['how', 'to', 'create', 'a', 'reliable', 'backup', 'system', 'for', 'your', 'digital', 'life', 'in', 'today', 's', 'digital', 'world', 'our', 'lives', 'are', 'increasingly']\n",
      "Counting word frequencies...\n",
      "Unique words: 1,957\n",
      "Most common words: [('the', 328), ('a', 239), ('of', 129), ('it', 112), ('in', 99), ('and', 98), ('to', 77), ('s', 59), ('that', 51), ('with', 50)]\n"
     ]
    }
   ],
   "source": [
    "# Text preprocessing and tokenization\n",
    "print(\"Tokenizing text...\")\n",
    "\n",
    "# Convert to lowercase and extract words using regex\n",
    "# This pattern matches sequences of letters and some common contractions\n",
    "words = re.findall(r\"\\b[a-z]+(?:'[a-z]+)?\\b\", corpus_text.lower())\n",
    "\n",
    "print(f\"Total tokens extracted: {len(words):,}\")\n",
    "print(f\"Sample tokens: {words[:20]}\")\n",
    "\n",
    "# Count word frequencies\n",
    "print(\"Counting word frequencies...\")\n",
    "word_counts = Counter(words)\n",
    "total_words = len(words)\n",
    "unique_words = len(word_counts)\n",
    "\n",
    "print(f\"Unique words: {unique_words:,}\")\n",
    "print(f\"Most common words: {word_counts.most_common(10)}\")"
   ]
  },
  {
   "cell_type": "code",
   "execution_count": 4,
   "id": "5f4e2ce3",
   "metadata": {},
   "outputs": [
    {
     "name": "stdout",
     "output_type": "stream",
     "text": [
      "Creating DataFrame...\n",
      "DataFrame created with 1957 rows\n",
      "\n",
      "First 10 rows:\n",
      "   word  frequency  log_frequency  relative_frequency  word_length  \\\n",
      "0   the        328       2.515874            0.061934            3   \n",
      "1     a        239       2.378398            0.045128            1   \n",
      "2    of        129       2.110590            0.024358            2   \n",
      "3    it        112       2.049218            0.021148            2   \n",
      "4    in         99       1.995635            0.018693            2   \n",
      "5   and         98       1.991226            0.018505            3   \n",
      "6    to         77       1.886491            0.014539            2   \n",
      "7     s         59       1.770852            0.011140            1   \n",
      "8  that         51       1.707570            0.009630            4   \n",
      "9  with         50       1.698970            0.009441            4   \n",
      "\n",
      "   frequency_rank  \n",
      "0               1  \n",
      "1               2  \n",
      "2               3  \n",
      "3               4  \n",
      "4               5  \n",
      "5               6  \n",
      "6               7  \n",
      "7               8  \n",
      "8               9  \n",
      "9              10  \n"
     ]
    }
   ],
   "source": [
    "# Create DataFrame with word frequency data\n",
    "print(\"Creating DataFrame...\")\n",
    "\n",
    "# Convert word counts to DataFrame\n",
    "df_words = pd.DataFrame([\n",
    "    {\n",
    "        'word': word,\n",
    "        'frequency': count,\n",
    "        'log_frequency': np.log10(count),\n",
    "        'relative_frequency': count / total_words,\n",
    "        'word_length': len(word)\n",
    "    }\n",
    "    for word, count in word_counts.items()\n",
    "])\n",
    "\n",
    "# Sort by frequency (descending)\n",
    "df_words = df_words.sort_values('frequency', ascending=False).reset_index(drop=True)\n",
    "\n",
    "# Add rank\n",
    "df_words['frequency_rank'] = range(1, len(df_words) + 1)\n",
    "\n",
    "print(f\"DataFrame created with {len(df_words)} rows\")\n",
    "print(\"\\nFirst 10 rows:\")\n",
    "print(df_words.head(10))"
   ]
  },
  {
   "cell_type": "code",
   "execution_count": 5,
   "id": "7f610103",
   "metadata": {},
   "outputs": [
    {
     "name": "stdout",
     "output_type": "stream",
     "text": [
      "Applying data quality filters...\n",
      "Filtered from 1,957 to 1,951 words\n",
      "Removed 6 words due to length constraints\n",
      "After removing hapax legomena: 662 words\n",
      "Removed 1,289 words that appeared only once\n",
      "\n",
      "Final dataset statistics:\n",
      "Word frequency range: 2 - 328\n",
      "Word length range: 2 - 13\n",
      "Most frequent words: ['the', 'of', 'it', 'in', 'and']\n"
     ]
    }
   ],
   "source": [
    "# Data quality checks and filtering\n",
    "print(\"Applying data quality filters...\")\n",
    "\n",
    "# Filter out very short words (less than 2 characters) and very long words (more than 20 characters)\n",
    "# This helps remove noise and focus on meaningful words\n",
    "original_count = len(df_words)\n",
    "df_words = df_words[(df_words['word_length'] >= 2) & (df_words['word_length'] <= 20)]\n",
    "filtered_count = len(df_words)\n",
    "\n",
    "print(f\"Filtered from {original_count:,} to {filtered_count:,} words\")\n",
    "print(f\"Removed {original_count - filtered_count:,} words due to length constraints\")\n",
    "\n",
    "# Filter out words that appear only once (hapax legomena) as they're often noise\n",
    "df_words = df_words[df_words['frequency'] > 1]\n",
    "final_count = len(df_words)\n",
    "\n",
    "print(f\"After removing hapax legomena: {final_count:,} words\")\n",
    "print(f\"Removed {filtered_count - final_count:,} words that appeared only once\")\n",
    "\n",
    "print(\"\\nFinal dataset statistics:\")\n",
    "print(f\"Word frequency range: {df_words['frequency'].min()} - {df_words['frequency'].max()}\")\n",
    "print(f\"Word length range: {df_words['word_length'].min()} - {df_words['word_length'].max()}\")\n",
    "print(f\"Most frequent words: {df_words.head(5)['word'].tolist()}\")"
   ]
  },
  {
   "cell_type": "code",
   "execution_count": 6,
   "id": "c491306c",
   "metadata": {},
   "outputs": [
    {
     "name": "stdout",
     "output_type": "stream",
     "text": [
      "Saving data to CSV...\n",
      "✓ Data saved to: ../output/generated_corpus_with_predictors.csv\n",
      "✓ Ready for analysis in notebook2_corpus_analysis.ipynb\n",
      "\n",
      "SUMMARY:\n",
      "- Processed corpus: 32,429 characters\n",
      "- Total tokens: 5,296\n",
      "- Unique words (after filtering): 662\n",
      "- Output file: ../output/generated_corpus_with_predictors.csv\n",
      "- Columns: ['word', 'frequency', 'log_frequency', 'relative_frequency', 'word_length', 'frequency_rank']\n",
      "\n",
      "Sample of final data:\n",
      "    word  frequency  log_frequency  relative_frequency  word_length  \\\n",
      "0    the        328       2.515874            0.061934            3   \n",
      "2     of        129       2.110590            0.024358            2   \n",
      "3     it        112       2.049218            0.021148            2   \n",
      "4     in         99       1.995635            0.018693            2   \n",
      "5    and         98       1.991226            0.018505            3   \n",
      "6     to         77       1.886491            0.014539            2   \n",
      "8   that         51       1.707570            0.009630            4   \n",
      "9   with         50       1.698970            0.009441            4   \n",
      "10   but         44       1.643453            0.008308            3   \n",
      "11   not         43       1.633468            0.008119            3   \n",
      "12  like         42       1.623249            0.007931            4   \n",
      "13    is         39       1.591065            0.007364            2   \n",
      "14   her         36       1.556303            0.006798            3   \n",
      "15   she         35       1.544068            0.006609            3   \n",
      "16  from         35       1.544068            0.006609            4   \n",
      "\n",
      "    frequency_rank  \n",
      "0                1  \n",
      "2                3  \n",
      "3                4  \n",
      "4                5  \n",
      "5                6  \n",
      "6                7  \n",
      "8                9  \n",
      "9               10  \n",
      "10              11  \n",
      "11              12  \n",
      "12              13  \n",
      "13              14  \n",
      "14              15  \n",
      "15              16  \n",
      "16              17  \n"
     ]
    }
   ],
   "source": [
    "# Save the processed data to CSV\n",
    "print(\"Saving data to CSV...\")\n",
    "\n",
    "# Ensure output directory exists\n",
    "os.makedirs(os.path.dirname(output_csv_path), exist_ok=True)\n",
    "\n",
    "# Save to CSV\n",
    "df_words.to_csv(output_csv_path, index=False)\n",
    "\n",
    "print(f\"✓ Data saved to: {output_csv_path}\")\n",
    "print(f\"✓ Ready for analysis in notebook2_corpus_analysis.ipynb\")\n",
    "\n",
    "# Display summary information\n",
    "print(f\"\\nSUMMARY:\")\n",
    "print(f\"- Processed corpus: {len(corpus_text):,} characters\")\n",
    "print(f\"- Total tokens: {total_words:,}\")\n",
    "print(f\"- Unique words (after filtering): {len(df_words):,}\")\n",
    "print(f\"- Output file: {output_csv_path}\")\n",
    "print(f\"- Columns: {list(df_words.columns)}\")\n",
    "\n",
    "# Show a sample of the final data\n",
    "print(f\"\\nSample of final data:\")\n",
    "print(df_words.head(15))"
   ]
  },
  {
   "cell_type": "code",
   "execution_count": 7,
   "id": "11c11a3e",
   "metadata": {},
   "outputs": [
    {
     "name": "stdout",
     "output_type": "stream",
     "text": [
      "Creating basic frequency distribution plots...\n"
     ]
    },
    {
     "data": {
      "image/png": "[encoded data removed]",
      "text/plain": [
       "<Figure size 1200x500 with 2 Axes>"
      ]
     },
     "metadata": {},
     "output_type": "display_data"
    },
    {
     "name": "stdout",
     "output_type": "stream",
     "text": [
      "✓ Visualizations created\n"
     ]
    }
   ],
   "source": [
    "# Optional: Create basic visualizations\n",
    "try:\n",
    "    import matplotlib.pyplot as plt\n",
    "    \n",
    "    print(\"Creating basic frequency distribution plots...\")\n",
    "    \n",
    "    fig, (ax1, ax2) = plt.subplots(1, 2, figsize=(12, 5))\n",
    "    \n",
    "    # Plot 1: Top 20 words\n",
    "    top_20 = df_words.head(20)\n",
    "    ax1.barh(range(len(top_20)), top_20['frequency'])\n",
    "    ax1.set_yticks(range(len(top_20)))\n",
    "    ax1.set_yticklabels(top_20['word'])\n",
    "    ax1.set_xlabel('Frequency')\n",
    "    ax1.set_title('Top 20 Most Frequent Words')\n",
    "    ax1.invert_yaxis()\n",
    "    \n",
    "    # Plot 2: Frequency distribution (log scale)\n",
    "    ax2.hist(df_words['log_frequency'], bins=30, alpha=0.7)\n",
    "    ax2.set_xlabel('Log Frequency')\n",
    "    ax2.set_ylabel('Number of Words')\n",
    "    ax2.set_title('Distribution of Log Word Frequencies')\n",
    "    \n",
    "    plt.tight_layout()\n",
    "    plt.show()\n",
    "    \n",
    "    print(\"✓ Visualizations created\")\n",
    "    \n",
    "except ImportError:\n",
    "    print(\"Matplotlib not available - skipping visualizations\")\n",
    "    print(\"Install with: pip install matplotlib\")"
   ]
  }
 ],
 "metadata": {
  "kernelspec": {
   "display_name": "Python 3",
   "language": "python",
   "name": "python3"
  },
  "language_info": {
   "codemirror_mode": {
    "name": "ipython",
    "version": 3
   },
   "file_extension": ".py",
   "mimetype": "text/x-python",
   "name": "python",
   "nbconvert_exporter": "python",
   "pygments_lexer": "ipython3",
   "version": "3.13.7"
  }
 },
 "nbformat": 4,
 "nbformat_minor": 5
}
