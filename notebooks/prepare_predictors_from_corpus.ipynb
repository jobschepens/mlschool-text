{
 "cells": [
  {
   "cell_type": "markdown",
   "id": "09fa83b7",
   "metadata": {},
   "source": [
    "# Prepare Predictors from Corpus\n",
    "\n",
    "This notebook processes the large corpus text file to extract word frequencies and prepare predictor data for analysis. The output will be used by `notebook2_corpus_analysis.ipynb` to compare different frequency measures."
   ]
  },
  {
   "cell_type": "code",
   "execution_count": 8,
   "id": "cc6dc38c",
   "metadata": {},
   "outputs": [
    {
     "name": "stdout",
     "output_type": "stream",
     "text": [
      "Starting corpus processing...\n",
      "Corpus file: ../output/large_corpus.txt\n",
      "Output file: ../output/generated_corpus_with_predictors.csv\n"
     ]
    }
   ],
   "source": [
    "import pandas as pd\n",
    "import re\n",
    "from collections import Counter\n",
    "import os\n",
    "import numpy as np\n",
    "\n",
    "# File paths\n",
    "corpus_file_path = '../output/large_corpus.txt'\n",
    "output_csv_path = '../output/generated_corpus_with_predictors.csv'\n",
    "\n",
    "print(\"Starting corpus processing...\")\n",
    "print(f\"Corpus file: {corpus_file_path}\")\n",
    "print(f\"Output file: {output_csv_path}\")"
   ]
  },
  {
   "cell_type": "code",
   "execution_count": 9,
   "id": "e8796dd6",
   "metadata": {},
   "outputs": [
    {
     "name": "stdout",
     "output_type": "stream",
     "text": [
      "✓ Corpus file found\n",
      "Reading corpus...\n",
      "Corpus loaded: 10,693,407 characters\n",
      "First 200 characters: **How to Create a Reliable Backup System for Your Digital Life**\n",
      "\n",
      "In today’s digital world, our lives are increasingly stored on computers, smartphones, and cloud services. From family photos and impo...\n"
     ]
    }
   ],
   "source": [
    "# Check if corpus file exists\n",
    "if not os.path.exists(corpus_file_path):\n",
    "    print(f\"ERROR: Corpus file not found at {corpus_file_path}\")\n",
    "    print(\"Please ensure the large_corpus.txt file exists in the output directory.\")\n",
    "else:\n",
    "    print(\"✓ Corpus file found\")\n",
    "    \n",
    "    # Read the corpus\n",
    "    print(\"Reading corpus...\")\n",
    "    with open(corpus_file_path, 'r', encoding='utf-8') as f:\n",
    "        corpus_text = f.read()\n",
    "    \n",
    "    print(f\"Corpus loaded: {len(corpus_text):,} characters\")\n",
    "    print(f\"First 200 characters: {corpus_text[:200]}...\")"
   ]
  },
  {
   "cell_type": "code",
   "execution_count": 10,
   "id": "d6c08548",
   "metadata": {},
   "outputs": [
    {
     "name": "stdout",
     "output_type": "stream",
     "text": [
      "Cleaning and tokenizing text...\n",
      "Total tokens extracted: 1,337,011\n",
      "Sample tokens: ['how', 'to', 'create', 'a', 'reliable', 'backup', 'system', 'for', 'your', 'digital', 'life', 'in', 'today', 's', 'digital', 'world', 'our', 'lives', 'are', 'increasingly']\n",
      "Counting word frequencies...\n",
      "Unique words: 38,427\n",
      "Most common words: [('the', 73916), ('a', 56027), ('and', 29002), ('of', 28267), ('to', 22563), ('in', 22028), ('it', 21348), ('s', 18357), ('like', 11614), ('that', 10669)]\n"
     ]
    }
   ],
   "source": [
    "# Text preprocessing and tokenization\n",
    "print(\"Cleaning and tokenizing text...\")\n",
    "\n",
    "# Remove metadata comments before processing\n",
    "# The DOTALL flag is crucial for multiline JSON\n",
    "cleaned_text = re.sub(r'<!-- Story Metadata:.*?-->', '', corpus_text, flags=re.DOTALL)\n",
    "\n",
    "# Convert to lowercase and extract words using regex\n",
    "# This pattern matches sequences of letters and some common contractions\n",
    "words = re.findall(r\"\\b[a-z]+(?:'[a-z]+)?\\b\", cleaned_text.lower())\n",
    "\n",
    "print(f\"Total tokens extracted: {len(words):,}\")\n",
    "print(f\"Sample tokens: {words[:20]}\")\n",
    "\n",
    "# Count word frequencies\n",
    "print(\"Counting word frequencies...\")\n",
    "word_counts = Counter(words)\n",
    "total_words = len(words)\n",
    "unique_words = len(word_counts)\n",
    "\n",
    "print(f\"Unique words: {unique_words:,}\")\n",
    "print(f\"Most common words: {word_counts.most_common(10)}\")"
   ]
  },
  {
   "cell_type": "code",
   "execution_count": 15,
   "id": "5f4e2ce3",
   "metadata": {},
   "outputs": [
    {
     "name": "stdout",
     "output_type": "stream",
     "text": [
      "Creating DataFrame...\n",
      "DataFrame created with 38427 words.\n",
      "\n",
      "Integrating with ECP reference data...\n",
      "✅ Loaded 61851 records from ECP dataset\n",
      "✅ Merged generated data with ECP reference measures.\n",
      "\n",
      "Applying logarithmic transformations...\n",
      "Total tokens (millions): 1.34\n",
      "   ✓ Calculated Schepens log for LLM frequency\n",
      "   ✓ Calculated log10 for SUBTLEX\n",
      "   ✓ Calculated log10 for Multilex\n",
      "   ✓ Calculated log10 for GPT Familiarity\n",
      "\n",
      "✅ Transformations complete.\n",
      "\n",
      "First 10 rows of the processed data:\n",
      "   word  llm_frequency_raw  llm_freq_schepens  subtlex_zipf  gpt_familiarity\n",
      "0   the              73916          10.920262      7.468478         7.000000\n",
      "1     a              56027          10.643170      7.309360         6.999306\n",
      "2   and              29002           9.984718      7.126116         7.000000\n",
      "3    of              28267           9.959049      7.063010         6.999999\n",
      "4    to              22563           9.733674      7.355006         6.999999\n",
      "5    in              22028           9.709679      6.989451         6.999999\n",
      "6    it              21348           9.678324      7.275782         6.999999\n",
      "7     s              18357           9.527384      7.316033         5.831275\n",
      "8  like              11614           9.069616      6.601354         6.999992\n",
      "9  that              10669           8.984755      7.148972         6.999998\n",
      "✅ Merged generated data with ECP reference measures.\n",
      "\n",
      "Applying logarithmic transformations...\n",
      "Total tokens (millions): 1.34\n",
      "   ✓ Calculated Schepens log for LLM frequency\n",
      "   ✓ Calculated log10 for SUBTLEX\n",
      "   ✓ Calculated log10 for Multilex\n",
      "   ✓ Calculated log10 for GPT Familiarity\n",
      "\n",
      "✅ Transformations complete.\n",
      "\n",
      "First 10 rows of the processed data:\n",
      "   word  llm_frequency_raw  llm_freq_schepens  subtlex_zipf  gpt_familiarity\n",
      "0   the              73916          10.920262      7.468478         7.000000\n",
      "1     a              56027          10.643170      7.309360         6.999306\n",
      "2   and              29002           9.984718      7.126116         7.000000\n",
      "3    of              28267           9.959049      7.063010         6.999999\n",
      "4    to              22563           9.733674      7.355006         6.999999\n",
      "5    in              22028           9.709679      6.989451         6.999999\n",
      "6    it              21348           9.678324      7.275782         6.999999\n",
      "7     s              18357           9.527384      7.316033         5.831275\n",
      "8  like              11614           9.069616      6.601354         6.999992\n",
      "9  that              10669           8.984755      7.148972         6.999998\n"
     ]
    }
   ],
   "source": [
    "# Create DataFrame with word frequency data\n",
    "print(\"Creating DataFrame...\")\n",
    "\n",
    "# Convert word counts to DataFrame\n",
    "df_words = pd.DataFrame(word_counts.items(), columns=['word', 'llm_frequency_raw'])\n",
    "df_words['word_length'] = df_words['word'].apply(len)\n",
    "\n",
    "print(f\"DataFrame created with {len(df_words)} words.\")\n",
    "\n",
    "# --- Data Integration ---\n",
    "print(\"\\nIntegrating with ECP reference data...\")\n",
    "try:\n",
    "    ecp_df = pd.read_csv('../data/lexicaldecision/ecp/English Crowdsourcing Project All Native Speakers.csv')\n",
    "    print(f\"✅ Loaded {len(ecp_df)} records from ECP dataset\")\n",
    "    \n",
    "    # Define word column and predictors to merge\n",
    "    word_col = 'spelling' if 'spelling' in ecp_df.columns else 'Word'\n",
    "    ref_cols = ['SUBTLEX', 'Multilex', 'GPT']\n",
    "    cols_to_merge = [word_col] + [col for col in ref_cols if col in ecp_df.columns]\n",
    "    \n",
    "    # Merge generated frequencies with reference data\n",
    "    merged_df = pd.merge(df_words, ecp_df[cols_to_merge], left_on='word', right_on=word_col, how='left')\n",
    "    \n",
    "    # Rename columns for clarity\n",
    "    merged_df = merged_df.rename(columns={\n",
    "        'SUBTLEX': 'subtlex_zipf',\n",
    "        'Multilex': 'multilex_zipf',\n",
    "        'GPT': 'gpt_familiarity'\n",
    "    })\n",
    "    if word_col != 'word':\n",
    "        merged_df = merged_df.drop(columns=[word_col])\n",
    "        \n",
    "    print(\"✅ Merged generated data with ECP reference measures.\")\n",
    "    \n",
    "except FileNotFoundError:\n",
    "    print(\"⚠️ ECP data not found. Proceeding without reference measures.\")\n",
    "    merged_df = df_words.copy()\n",
    "\n",
    "# --- Logarithmic Transformations ---\n",
    "print(\"\\nApplying logarithmic transformations...\")\n",
    "\n",
    "# Van Heuven et al. (2014) Zipf Scale\n",
    "# log10( (frequency + 1) / (total_tokens_in_millions + total_types_in_millions) ) + 3\n",
    "# Simplified for external corpora: log10(frequency_per_million + 1)\n",
    "total_tokens_million = total_words / 1_000_000\n",
    "print(f\"Total tokens (millions): {total_tokens_million:.2f}\")\n",
    "\n",
    "def van_heuven_zipf(freq_series):\n",
    "    # Assuming the input is already frequency per million for SUBTLEX/Multilex\n",
    "    return np.log10(freq_series + 1)\n",
    "\n",
    "def schepens_log(freq_series, corpus_size):\n",
    "    \"\"\"log( ( (1 + freq) * 1e6) / corpus_size )\"\"\"\n",
    "    return np.log((1 + freq_series) * 1_000_000 / corpus_size)\n",
    "\n",
    "# Apply transformations\n",
    "merged_df['llm_freq_schepens'] = schepens_log(merged_df['llm_frequency_raw'], total_words)\n",
    "print(\"   ✓ Calculated Schepens log for LLM frequency\")\n",
    "\n",
    "# For reference corpora, we assume they are already in a comparable scale (e.g., Zipf)\n",
    "# We will apply a simple log10 transform for consistency in modeling\n",
    "if 'subtlex_zipf' in merged_df.columns:\n",
    "    merged_df['subtlex_log10'] = np.log10(merged_df['subtlex_zipf'] + 1)\n",
    "    print(\"   ✓ Calculated log10 for SUBTLEX\")\n",
    "if 'multilex_zipf' in merged_df.columns:\n",
    "    merged_df['multilex_log10'] = np.log10(merged_df['multilex_zipf'] + 1)\n",
    "    print(\"   ✓ Calculated log10 for Multilex\")\n",
    "if 'gpt_familiarity' in merged_df.columns:\n",
    "    # Familiarity is not a frequency, but log transform can help normalize it\n",
    "    merged_df['gpt_familiarity_log10'] = np.log10(merged_df['gpt_familiarity'] + 1)\n",
    "    print(\"   ✓ Calculated log10 for GPT Familiarity\")\n",
    "\n",
    "# Sort by raw frequency\n",
    "merged_df = merged_df.sort_values('llm_frequency_raw', ascending=False).reset_index(drop=True)\n",
    "\n",
    "print(\"\\n✅ Transformations complete.\")\n",
    "print(\"\\nFirst 10 rows of the processed data:\")\n",
    "display_cols = ['word', 'llm_frequency_raw', 'llm_freq_schepens', 'subtlex_zipf', 'gpt_familiarity']\n",
    "available_cols = [col for col in display_cols if col in merged_df.columns]\n",
    "print(merged_df[available_cols].head(10))"
   ]
  },
  {
   "cell_type": "code",
   "execution_count": 16,
   "id": "3681a40b",
   "metadata": {},
   "outputs": [
    {
     "name": "stdout",
     "output_type": "stream",
     "text": [
      "\n",
      "✅ Processed data saved to ../output/merged_predictors.csv\n"
     ]
    }
   ],
   "source": [
    "# --- Save Processed Data ---\n",
    "output_path = '../output/merged_predictors.csv'\n",
    "merged_df.to_csv(output_path, index=False)\n",
    "print(f\"\\n✅ Processed data saved to {output_path}\")"
   ]
  },
  {
   "cell_type": "code",
   "execution_count": 12,
   "id": "7f610103",
   "metadata": {},
   "outputs": [
    {
     "name": "stdout",
     "output_type": "stream",
     "text": [
      "Applying data quality filters...\n",
      "Filtered from 38,427 to 38,397 words\n",
      "Removed 30 words due to length constraints\n",
      "After removing hapax legomena: 27,047 words\n",
      "Removed 11,350 words that appeared only once\n",
      "\n",
      "Final dataset statistics:\n",
      "Word frequency range: 2 - 73916\n",
      "Word length range: 2 - 20\n",
      "Most frequent words: ['the', 'and', 'of', 'to', 'in']\n"
     ]
    }
   ],
   "source": [
    "# Data quality checks and filtering\n",
    "print(\"Applying data quality filters...\")\n",
    "\n",
    "# Filter out very short words (less than 2 characters) and very long words (more than 20 characters)\n",
    "# This helps remove noise and focus on meaningful words\n",
    "original_count = len(df_words)\n",
    "df_words = df_words[(df_words['word_length'] >= 2) & (df_words['word_length'] <= 20)]\n",
    "filtered_count = len(df_words)\n",
    "\n",
    "print(f\"Filtered from {original_count:,} to {filtered_count:,} words\")\n",
    "print(f\"Removed {original_count - filtered_count:,} words due to length constraints\")\n",
    "\n",
    "# Filter out words that appear only once (hapax legomena) as they're often noise\n",
    "df_words = df_words[df_words['frequency'] > 1]\n",
    "final_count = len(df_words)\n",
    "\n",
    "print(f\"After removing hapax legomena: {final_count:,} words\")\n",
    "print(f\"Removed {filtered_count - final_count:,} words that appeared only once\")\n",
    "\n",
    "print(\"\\nFinal dataset statistics:\")\n",
    "print(f\"Word frequency range: {df_words['frequency'].min()} - {df_words['frequency'].max()}\")\n",
    "print(f\"Word length range: {df_words['word_length'].min()} - {df_words['word_length'].max()}\")\n",
    "print(f\"Most frequent words: {df_words.head(5)['word'].tolist()}\")"
   ]
  },
  {
   "cell_type": "code",
   "execution_count": 13,
   "id": "c491306c",
   "metadata": {},
   "outputs": [
    {
     "name": "stdout",
     "output_type": "stream",
     "text": [
      "Saving data to CSV...\n",
      "✓ Data saved to: ../output/generated_corpus_with_predictors.csv\n",
      "✓ Ready for analysis in notebook2_corpus_analysis.ipynb\n",
      "\n",
      "SUMMARY:\n",
      "- Processed corpus: 10,693,407 characters\n",
      "- Total tokens: 1,337,011\n",
      "- Unique words (after filtering): 27,047\n",
      "- Output file: ../output/generated_corpus_with_predictors.csv\n",
      "- Columns: ['word', 'frequency', 'log_frequency', 'relative_frequency', 'word_length', 'frequency_rank']\n",
      "\n",
      "Sample of final data:\n",
      "    word  frequency  log_frequency  relative_frequency  word_length  \\\n",
      "0    the      73916       4.868738            0.055285            3   \n",
      "2    and      29002       4.462428            0.021692            3   \n",
      "3     of      28267       4.451280            0.021142            2   \n",
      "4     to      22563       4.353397            0.016876            2   \n",
      "5     in      22028       4.342975            0.016476            2   \n",
      "6     it      21348       4.329357            0.015967            2   \n",
      "8   like      11614       4.064982            0.008687            4   \n",
      "9   that      10669       4.028124            0.007980            4   \n",
      "10  with      10049       4.002123            0.007516            4   \n",
      "11   not       9967       3.998564            0.007455            3   \n",
      "12   but       9949       3.997779            0.007441            3   \n",
      "14   you       8844       3.946649            0.006615            3   \n",
      "15    is       8668       3.937919            0.006483            2   \n",
      "16  your       8529       3.930898            0.006379            4   \n",
      "17    or       7780       3.890980            0.005819            2   \n",
      "\n",
      "    frequency_rank  \n",
      "0                1  \n",
      "2                3  \n",
      "3                4  \n",
      "4                5  \n",
      "5                6  \n",
      "6                7  \n",
      "8                9  \n",
      "9               10  \n",
      "10              11  \n",
      "11              12  \n",
      "12              13  \n",
      "14              15  \n",
      "15              16  \n",
      "16              17  \n",
      "17              18  \n"
     ]
    }
   ],
   "source": [
    "# Save the processed data to CSV\n",
    "print(\"Saving data to CSV...\")\n",
    "\n",
    "# Ensure output directory exists\n",
    "os.makedirs(os.path.dirname(output_csv_path), exist_ok=True)\n",
    "\n",
    "# Save to CSV\n",
    "df_words.to_csv(output_csv_path, index=False)\n",
    "\n",
    "print(f\"✓ Data saved to: {output_csv_path}\")\n",
    "print(f\"✓ Ready for analysis in notebook2_corpus_analysis.ipynb\")\n",
    "\n",
    "# Display summary information\n",
    "print(f\"\\nSUMMARY:\")\n",
    "print(f\"- Processed corpus: {len(corpus_text):,} characters\")\n",
    "print(f\"- Total tokens: {total_words:,}\")\n",
    "print(f\"- Unique words (after filtering): {len(df_words):,}\")\n",
    "print(f\"- Output file: {output_csv_path}\")\n",
    "print(f\"- Columns: {list(df_words.columns)}\")\n",
    "\n",
    "# Show a sample of the final data\n",
    "print(f\"\\nSample of final data:\")\n",
    "print(df_words.head(15))"
   ]
  },
  {
   "cell_type": "code",
   "execution_count": 14,
   "id": "11c11a3e",
   "metadata": {},
   "outputs": [
    {
     "name": "stdout",
     "output_type": "stream",
     "text": [
      "Creating basic frequency distribution plots...\n"
     ]
    },
    {
     "data": {
      "image/png": "[encoded data removed]",
      "text/plain": [
       "<Figure size 1200x500 with 2 Axes>"
      ]
     },
     "metadata": {},
     "output_type": "display_data"
    },
    {
     "name": "stdout",
     "output_type": "stream",
     "text": [
      "✓ Visualizations created\n"
     ]
    }
   ],
   "source": [
    "# Optional: Create basic visualizations\n",
    "try:\n",
    "    import matplotlib.pyplot as plt\n",
    "    \n",
    "    print(\"Creating basic frequency distribution plots...\")\n",
    "    \n",
    "    fig, (ax1, ax2) = plt.subplots(1, 2, figsize=(12, 5))\n",
    "    \n",
    "    # Plot 1: Top 20 words\n",
    "    top_20 = df_words.head(20)\n",
    "    ax1.barh(range(len(top_20)), top_20['frequency'])\n",
    "    ax1.set_yticks(range(len(top_20)))\n",
    "    ax1.set_yticklabels(top_20['word'])\n",
    "    ax1.set_xlabel('Frequency')\n",
    "    ax1.set_title('Top 20 Most Frequent Words')\n",
    "    ax1.invert_yaxis()\n",
    "    \n",
    "    # Plot 2: Frequency distribution (log scale)\n",
    "    ax2.hist(df_words['log_frequency'], bins=30, alpha=0.7)\n",
    "    ax2.set_xlabel('Log Frequency')\n",
    "    ax2.set_ylabel('Number of Words')\n",
    "    ax2.set_title('Distribution of Log Word Frequencies')\n",
    "    \n",
    "    plt.tight_layout()\n",
    "    plt.show()\n",
    "    \n",
    "    print(\"✓ Visualizations created\")\n",
    "    \n",
    "except ImportError:\n",
    "    print(\"Matplotlib not available - skipping visualizations\")\n",
    "    print(\"Install with: pip install matplotlib\")"
   ]
  }
 ],
 "metadata": {
  "kernelspec": {
   "display_name": "Python 3",
   "language": "python",
   "name": "python3"
  },
  "language_info": {
   "codemirror_mode": {
    "name": "ipython",
    "version": 3
   },
   "file_extension": ".py",
   "mimetype": "text/x-python",
   "name": "python",
   "nbconvert_exporter": "python",
   "pygments_lexer": "ipython3",
   "version": "3.13.7"
  }
 },
 "nbformat": 4,
 "nbformat_minor": 5
}
